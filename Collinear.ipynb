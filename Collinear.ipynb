{
 "cells": [
  {
   "cell_type": "markdown",
   "metadata": {},
   "source": [
    "Given n points in a Cartesian coordinate system, count the number of Triples that are collinear. \n",
    "\n",
    "Three points P, Q, R are said to be collinear if they lie on a single straight line. "
   ]
  },
  {
   "cell_type": "code",
   "execution_count": 9,
   "metadata": {
    "collapsed": true
   },
   "outputs": [],
   "source": [
    "import itertools\n",
    "import math\n",
    "\n",
    "def distance(q, p):\n",
    "    dist = math.sqrt((q[0] - p[0])**2 +(q[1] - p[1])**2)\n",
    "    return dist\n",
    "        \n",
    "def collinear(A):\n",
    "    triplets = [list(x) for x in itertools.combinations(A, 3)]\n",
    "    count = []\n",
    "    for item in triplets:\n",
    "        \n",
    "       \n",
    "        all_distance = [ distance(item[0], item[1]), distance(item[0], item[2])\n",
    "        ,distance(item[1], item[2])]\n",
    "        all_distance.sort()\n",
    "        \n",
    "        \n",
    "        if all_distance[2] == all_distance[0] + all_distance[1]:\n",
    "            count.append(item)\n",
    "            \n",
    "        else:\n",
    "            continue\n",
    "            \n",
    "            \n",
    "    print(*count,sep='\\n')        \n",
    "            \n",
    "        \n",
    "        "
   ]
  },
  {
   "cell_type": "markdown",
   "metadata": {},
   "source": [
    "# Test Code"
   ]
  },
  {
   "cell_type": "code",
   "execution_count": 10,
   "metadata": {
    "scrolled": true
   },
   "outputs": [
    {
     "name": "stdout",
     "output_type": "stream",
     "text": [
      "[[1, -1], [5, 4], [9, 9]]\n",
      "[[0, 0], [9, 9], [10, 10]]\n"
     ]
    }
   ],
   "source": [
    "points = [[1,-1],[2,1],[-3,3],[0,0],[5,4],[6,-1],[3,7],[8,2],[9,9],[10,10]]\n",
    "collinear(points)"
   ]
  },
  {
   "cell_type": "code",
   "execution_count": null,
   "metadata": {
    "collapsed": true
   },
   "outputs": [],
   "source": []
  }
 ],
 "metadata": {
  "kernelspec": {
   "display_name": "Python [conda env:anaconda3]",
   "language": "python",
   "name": "conda-env-anaconda3-py"
  },
  "language_info": {
   "codemirror_mode": {
    "name": "ipython",
    "version": 3
   },
   "file_extension": ".py",
   "mimetype": "text/x-python",
   "name": "python",
   "nbconvert_exporter": "python",
   "pygments_lexer": "ipython3",
   "version": "3.5.3"
  }
 },
 "nbformat": 4,
 "nbformat_minor": 2
}
